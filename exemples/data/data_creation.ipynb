{
 "cells": [
  {
   "cell_type": "code",
   "execution_count": 1,
   "metadata": {
    "tags": []
   },
   "outputs": [],
   "source": [
    "import importlib\n",
    "import minas as mg\n",
    "import pandas as pd"
   ]
  },
  {
   "cell_type": "markdown",
   "metadata": {},
   "source": [
    "## Read Database"
   ]
  },
  {
   "cell_type": "code",
   "execution_count": 2,
   "metadata": {
    "tags": []
   },
   "outputs": [],
   "source": [
    "coords = ['RA_1', 'DEC_1']\n",
    "filters = ['g_pstotal_0','i_pstotal_0','j0378_pstotal_0','j0395_pstotal_0','j0410_pstotal_0','j0430_pstotal_0','j0515_pstotal_0',\n",
    "           'j0660_pstotal_0','j0861_pstotal_0','r_pstotal_0','u_pstotal_0','z_pstotal_0'\n",
    "            ]\n",
    "\n",
    "errors = ['e_g_PStotal','e_i_PStotal','e_J0378_PStotal','e_J0395_PStotal','e_J0410_PStotal','e_J0430_PStotal','e_J0515_PStotal',\n",
    "          'e_J0660_PStotal','e_J0861_PStotal','e_r_PStotal','e_u_PStotal','e_z_PStotal'\n",
    "            ]\n",
    "\n",
    "# parameters of interest\n",
    "stellar_params = ['teff', 'teff_err',\n",
    "                  'logg', 'logg_err',\n",
    "                  'feh', 'feh_err']\n",
    "\n",
    "\n",
    "others = ['TILE_ID', 'snru', 'snrg', 'snrr', 'snri', 'snrz',\n",
    "          'Dist', 'Plx', 'e_Plx', 'RPlx', 'RUWE']\n"
   ]
  },
  {
   "cell_type": "code",
   "execution_count": 3,
   "metadata": {
    "tags": []
   },
   "outputs": [],
   "source": [
    "rename_dict = {}\n",
    "\n",
    "rename_dict = rename_dict | {key: value for key, value in zip(coords, ['RA', 'DEC'])}\n",
    "rename_dict = rename_dict | {key: value for key, value in zip(filters, mg.FILTERS['SPLUS'])}\n",
    "rename_dict = rename_dict | {key: value for key, value in zip(errors, mg.ERRORS['SPLUS'])}"
   ]
  },
  {
   "cell_type": "code",
   "execution_count": 4,
   "metadata": {
    "tags": []
   },
   "outputs": [
    {
     "data": {
      "text/plain": [
       "(112023, 43)"
      ]
     },
     "execution_count": 4,
     "metadata": {},
     "output_type": "execute_result"
    }
   ],
   "source": [
    "columns =  coords + filters + errors + stellar_params + others\n",
    "\n",
    "# Import the full dataframe with stars that have both SPLUS, GAIA DR3 and LAMOST(DR10 2.0/Low) data\n",
    "stars_raw = mg.read_csv(f\"splus_gL11.csv\", usecols = columns)\n",
    "stars_raw = stars_raw.rename(columns = rename_dict)\n",
    "stars_raw.shape"
   ]
  },
  {
   "cell_type": "code",
   "execution_count": 5,
   "metadata": {
    "tags": []
   },
   "outputs": [
    {
     "data": {
      "text/plain": [
       "(93127, 43)"
      ]
     },
     "execution_count": 5,
     "metadata": {},
     "output_type": "execute_result"
    }
   ],
   "source": [
    "for snr in ['snrg','snri', 'snrz']:\n",
    "    stars_raw = stars_raw[stars_raw[snr] >= 10]\n",
    "    \n",
    "stars_raw = stars_raw[stars_raw['snrr'] >= 20]\n",
    "\n",
    "stars_raw.shape"
   ]
  },
  {
   "cell_type": "code",
   "execution_count": 6,
   "metadata": {
    "tags": []
   },
   "outputs": [
    {
     "data": {
      "text/plain": [
       "(83440, 43)"
      ]
     },
     "execution_count": 6,
     "metadata": {},
     "output_type": "execute_result"
    }
   ],
   "source": [
    "stars_raw = stars_raw[stars_raw['RUWE'] <= 1.4]\n",
    "stars_raw.shape"
   ]
  },
  {
   "cell_type": "code",
   "execution_count": 7,
   "metadata": {
    "tags": []
   },
   "outputs": [
    {
     "data": {
      "text/plain": [
       "(74975, 43)"
      ]
     },
     "execution_count": 7,
     "metadata": {},
     "output_type": "execute_result"
    }
   ],
   "source": [
    "stars_raw = stars_raw[stars_raw['RPlx'] >= 5]\n",
    "stars_raw.shape"
   ]
  },
  {
   "cell_type": "code",
   "execution_count": 8,
   "metadata": {
    "tags": []
   },
   "outputs": [],
   "source": [
    "stars_raw.to_csv(f'input_splusgL11.csv',\n",
    "                 index = False)"
   ]
  },
  {
   "cell_type": "markdown",
   "metadata": {},
   "source": [
    "### FILTERS MAGNITUDE"
   ]
  },
  {
   "cell_type": "code",
   "execution_count": 9,
   "metadata": {},
   "outputs": [],
   "source": [
    "import os\n",
    "import pandas as pd\n",
    "import minas as mg\n",
    "\n",
    "# Caminho do arquivo de entrada\n",
    "input_path = 'input_splusgL11.csv'\n",
    "df_base = pd.read_csv(input_path)\n",
    "df_base.set_index('TILE_ID', drop=True, inplace=True)\n",
    "\n",
    "# Nome da coluna de índice (ou None para não usar)\n",
    "index_col = 'TILE_ID'\n",
    "\n",
    "# Survey e filtros\n",
    "survey_filter = 'SPLUS'\n",
    "filters = mg.FILTERS[survey_filter]\n",
    "\n",
    "\n",
    "# Lista de parâmetros a serem processados\n",
    "param_list = ['teff', 'logg', 'feh']"
   ]
  },
  {
   "cell_type": "code",
   "execution_count": 10,
   "metadata": {},
   "outputs": [
    {
     "name": "stdout",
     "output_type": "stream",
     "text": [
      "\n",
      "--- Filtros para erro de magnitude: _01 ---\n",
      "Objetos após filtro de Distância: 69893 objs\n",
      "Objetos após filtro de erro de magnitude): 61852 objs\n",
      "Objetos após filtro do erro do parâmetro teff): 60849 objs\n",
      "Objetos após filtro do erro do parâmetro logg): 60891 objs\n",
      "Objetos após filtro do erro do parâmetro feh): 61211 objs\n",
      "\n",
      "--- Filtros para erro de magnitude: _02 ---\n",
      "Objetos após filtro de Distância: 69893 objs\n",
      "Objetos após filtro de erro de magnitude): 66034 objs\n",
      "Objetos após filtro do erro do parâmetro teff): 64630 objs\n",
      "Objetos após filtro do erro do parâmetro logg): 64586 objs\n",
      "Objetos após filtro do erro do parâmetro feh): 65139 objs\n",
      "\n",
      "Resumo dos filtros salvo em splusg_L11.txt\n"
     ]
    }
   ],
   "source": [
    "# Função utilitária para buscar o nome correto da coluna no DataFrame\n",
    "def get_column(df, aliases):\n",
    "    for col in aliases:\n",
    "        if col in df.columns:\n",
    "            return col\n",
    "    raise KeyError(f'Nenhuma coluna encontrada para: {aliases}')\n",
    "\n",
    "output_lines = []  # Lista para registrar os resumos dos filtros\n",
    "\n",
    "for mag_err_type in ['_01', '_02']:\n",
    "    print(f'\\n--- Filtros para erro de magnitude: {mag_err_type} ---')\n",
    "    max_err = 0.1 if mag_err_type == '_01' else 0.2\n",
    "    df_common = df_base.copy()\n",
    "\n",
    "    # Filtro de distância: remove valores inválidos de 'Dist'\n",
    "    if 'Dist' in df_common.columns:\n",
    "        df_common = df_common.dropna(subset=['Dist'])\n",
    "        df_common = df_common[df_common['Dist'] != -9999]\n",
    "        print(f'Objetos após filtro de Distância: {len(df_common)} objs')\n",
    "        output_lines.append(f'Objetos após filtro de Distância: {len(df_common)} objs')\n",
    "\n",
    "    error_columns = [f + '_err' for f in filters]\n",
    "\n",
    "    # Filtros de erro de magnitude (aplicados uma vez)\n",
    "    for col in error_columns:\n",
    "        if col in df_common.columns:\n",
    "            df_common = df_common[df_common[col] <= max_err]\n",
    "\n",
    "    print(f'Objetos após filtro de erro de magnitude): {len(df_common)} objs')\n",
    "    output_lines.append(f'--- Filtros para erro de magnitude: {mag_err_type} ---')\n",
    "    output_lines.append(f'Objetos após filtro de erro de magnitude): {len(df_common)} objs')\n",
    "\n",
    "    # Agora aplicar filtros específicos para cada parâmetro\n",
    "    for param in param_list:\n",
    "        aliases = mg.PARAM_ALIASES[param]\n",
    "        df = df_common.copy()\n",
    "\n",
    "        # Filtros específicos por parâmetro\n",
    "        if param.lower() == 'teff':\n",
    "            param_col = get_column(df, aliases)\n",
    "            df = df[df[param_col] <= 8300]\n",
    "            err_col_candidates = [c for c in df.columns if (c.lower().startswith('e_teff') or c.lower().endswith('teff_err'))]\n",
    "            if err_col_candidates:\n",
    "                err_col = err_col_candidates[0]\n",
    "                df = df[df[err_col] < 300]\n",
    "            df = df[df[param_col] != -9999]\n",
    "            df = df.dropna(subset=[param_col])\n",
    "\n",
    "        elif param.lower() in ['logg']:\n",
    "            param_col = get_column(df, aliases)\n",
    "            err_col_candidates = [c for c in df.columns if (c.lower().startswith('e_'+param.lower()) \n",
    "                                                            or c.lower().endswith(param.lower()+'_err'))]\n",
    "            if err_col_candidates:\n",
    "                err_col = err_col_candidates[0]\n",
    "                df = df[df[err_col] < 0.4]\n",
    "            df = df[df[param_col] != -9999]\n",
    "            df = df.dropna(subset=[param_col])\n",
    "        \n",
    "        elif param.lower() in ['feh']:\n",
    "            param_col = get_column(df, aliases)\n",
    "            err_col_candidates = [c for c in df.columns if (c.lower().startswith('e_'+param.lower()) \n",
    "                                                            or c.lower().endswith(param.lower()+'_err'))]\n",
    "            if err_col_candidates:\n",
    "                err_col = err_col_candidates[0]\n",
    "                df = df[df[err_col] < 0.4]\n",
    "            df = df[df[param_col] != -9999]\n",
    "            df = df.dropna(subset=[param_col])\n",
    "\n",
    "        print(f'Objetos após filtro do erro do parâmetro {param}): {len(df)} objs')\n",
    "        output_lines.append(f'Objetos após filtro do erro do parâmetro {param}): {len(df)} objs')\n",
    "\n",
    "print()\n",
    "\n",
    "# Salva as informações em um arquivo txt\n",
    "with open('splusg_L11.txt', 'w') as f:\n",
    "    for line in output_lines:\n",
    "        f.write(line + '\\n')\n",
    "print('Resumo dos filtros salvo em splusg_L11.txt')"
   ]
  }
 ],
 "metadata": {
  "kernelspec": {
   "display_name": "mg",
   "language": "python",
   "name": "python3"
  },
  "language_info": {
   "codemirror_mode": {
    "name": "ipython",
    "version": 3
   },
   "file_extension": ".py",
   "mimetype": "text/x-python",
   "name": "python",
   "nbconvert_exporter": "python",
   "pygments_lexer": "ipython3",
   "version": "3.14.0"
  },
  "varInspector": {
   "cols": {
    "lenName": 16,
    "lenType": 16,
    "lenVar": 40
   },
   "kernels_config": {
    "python": {
     "delete_cmd_postfix": "",
     "delete_cmd_prefix": "del ",
     "library": "var_list.py",
     "varRefreshCmd": "print(var_dic_list())"
    },
    "r": {
     "delete_cmd_postfix": ") ",
     "delete_cmd_prefix": "rm(",
     "library": "var_list.r",
     "varRefreshCmd": "cat(var_dic_list()) "
    }
   },
   "position": {
    "height": "303px",
    "left": "1013px",
    "right": "20px",
    "top": "119px",
    "width": "332px"
   },
   "types_to_exclude": [
    "module",
    "function",
    "builtin_function_or_method",
    "instance",
    "_Feature"
   ],
   "window_display": false
  }
 },
 "nbformat": 4,
 "nbformat_minor": 4
}
