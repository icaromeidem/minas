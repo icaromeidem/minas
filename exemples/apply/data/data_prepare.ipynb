{
 "cells": [
  {
   "cell_type": "code",
   "execution_count": null,
   "metadata": {
    "tags": []
   },
   "outputs": [],
   "source": [
    "import importlib\n",
    "import minas as mg\n",
    "import pandas as pd"
   ]
  },
  {
   "cell_type": "markdown",
   "metadata": {},
   "source": [
    "## Read Database"
   ]
  },
  {
   "cell_type": "code",
   "execution_count": null,
   "metadata": {},
   "outputs": [],
   "source": [
    "# Defina as listas de colunas\n",
    "coords = ['RA', 'DEC']\n",
    "filters = [\n",
    "    'g_pstotal_0','i_pstotal_0','j0378_pstotal_0','j0395_pstotal_0','j0410_pstotal_0',\n",
    "    'j0430_pstotal_0','j0515_pstotal_0','j0660_pstotal_0','j0861_pstotal_0',\n",
    "    'r_pstotal_0','u_pstotal_0','z_pstotal_0'\n",
    "]\n",
    "errors = [\n",
    "    'e_g_PStotal','e_i_PStotal','e_J0378_PStotal','e_J0395_PStotal','e_J0410_PStotal',\n",
    "    'e_J0430_PStotal','e_J0515_PStotal','e_J0660_PStotal','e_J0861_PStotal',\n",
    "    'e_r_PStotal','e_u_PStotal','e_z_PStotal'\n",
    "]\n",
    "# Adicione stellar_params e others conforme necessário\n",
    "stellar_params = []  # Exemplo: ['teff', 'logg', 'feh']\n",
    "others = ['TILE_ID','Gmag', 'e_Gmag', 'Dist']          # Exemplo: ['TILE_ID', 'Dist']\n",
    "\n",
    "columns = coords + filters + errors + stellar_params + others\n",
    "\n",
    "# Carregue o DataFrame\n",
    "stars_raw = mg.read_csv('/home/icaromeidem/ON/splus_g.csv', usecols=columns)\n",
    "\n",
    "# Exemplos: 'JPLUS' ou 'JPAS'\n",
    "survey_filter = 'SPLUS'  # altere para 'JPAS' conforme necessário\n",
    "\n",
    "\n",
    "# Monte o dicionário de renomeação\n",
    "rename_dict = {}\n",
    "rename_dict |= {key: value for key, value in zip(coords, ['RA', 'DEC'])}\n",
    "rename_dict |= {key: value for key, value in zip(filters, mg.FILTERS[survey_filter])}\n",
    "rename_dict |= {key: value for key, value in zip(errors, mg.ERRORS[survey_filter])}\n",
    "\n",
    "# Renomeie as colunas\n",
    "stars_raw = stars_raw.rename(columns=rename_dict)\n",
    "\n",
    "# Visualize o shape do DataFrame\n",
    "print(stars_raw.shape)\n",
    "# Salvar os dados processados\n",
    "output_filename = f'input_splusg.csv'\n",
    "stars_raw.to_csv(output_filename, index=False)\n",
    "print(f'Dados salvos em: {output_filename}')"
   ]
  }
 ],
 "metadata": {
  "kernelspec": {
   "display_name": "mg",
   "language": "python",
   "name": "python3"
  },
  "language_info": {
   "codemirror_mode": {
    "name": "ipython",
    "version": 3
   },
   "file_extension": ".py",
   "mimetype": "text/x-python",
   "name": "python",
   "nbconvert_exporter": "python",
   "pygments_lexer": "ipython3",
   "version": "3.14.0"
  },
  "varInspector": {
   "cols": {
    "lenName": 16,
    "lenType": 16,
    "lenVar": 40
   },
   "kernels_config": {
    "python": {
     "delete_cmd_postfix": "",
     "delete_cmd_prefix": "del ",
     "library": "var_list.py",
     "varRefreshCmd": "print(var_dic_list())"
    },
    "r": {
     "delete_cmd_postfix": ") ",
     "delete_cmd_prefix": "rm(",
     "library": "var_list.r",
     "varRefreshCmd": "cat(var_dic_list()) "
    }
   },
   "position": {
    "height": "303px",
    "left": "1013px",
    "right": "20px",
    "top": "119px",
    "width": "332px"
   },
   "types_to_exclude": [
    "module",
    "function",
    "builtin_function_or_method",
    "instance",
    "_Feature"
   ],
   "window_display": false
  }
 },
 "nbformat": 4,
 "nbformat_minor": 4
}
